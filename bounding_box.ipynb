{
 "cells": [
  {
   "cell_type": "code",
   "execution_count": null,
   "id": "bb9eb3a9-35b5-4ba9-937a-317c40951a3f",
   "metadata": {},
   "outputs": [],
   "source": [
    "import cv2\n",
    "\n",
    "# Specify the path to your image\n",
    "image_path = 'path/015601864.jpg'\n",
    "\n",
    "# Try to load the image\n",
    "image = cv2.imread(image_path)\n",
    "\n",
    "# Check if the image was loaded properly\n",
    "if image is None:\n",
    "    print(\"Failed to load the image. Please check the file path and file permissions.\")\n",
    "else:\n",
    "    print(\"Image loaded successfully.\")\n"
   ]
  },
  {
   "cell_type": "code",
   "execution_count": null,
   "id": "a26c69e8-e331-4df2-9844-8d9ab26008f6",
   "metadata": {},
   "outputs": [],
   "source": [
    "%matplotlib inline\n",
    "import cv2\n",
    "\n",
    "def calculate_bounding_box(joints):\n",
    "    x_coordinates = [joint[0] for joint in joints if joint[2] == 1]  # Use only visible joints\n",
    "    y_coordinates = [joint[1] for joint in joints if joint[2] == 1]\n",
    "\n",
    "    if not x_coordinates or not y_coordinates:\n",
    "        return None  # No valid joints to calculate the bounding box\n",
    "    xmin = min(x_coordinates)\n",
    "    xmax = max(x_coordinates)\n",
    "    ymin = min(y_coordinates)\n",
    "    ymax = max(y_coordinates)\n",
    "\n",
    "    return (int(xmin), int(ymin), int(xmax), int(ymax))\n",
    "\n",
    "# Load the image\n",
    "image_path = 'path/015601864.jpg'  # Ensure this is the correct path\n",
    "image = cv2.imread(image_path)\n",
    "if image is None:\n",
    "    print(\"Failed to load the image. Please check the file path and file permissions.\")\n",
    "    exit()\n",
    "\n",
    "# Define joints data and calculate the bounding box\n",
    "joints_self = [[620.000,394.000,1.000],[616.000,269.000,1.000],[573.000,185.000,1.000],\n",
    "               [661.000,221.000,1.000],[656.000,231.000,1.000],[647.000,176.000,1.000],\n",
    "               [637.020,189.818,1.000],[695.980,108.182,1.000],[606.000,217.000,1.000],\n",
    "               [553.000,161.000,1.000],[601.000,167.000,1.000],[692.000,185.000,1.000],\n",
    "               [693.000,240.000,1.000],[688.000,313.000,1.000]]\n",
    "bbox = calculate_bounding_box(joints_self)\n",
    "if bbox is not None:\n",
    "    # Draw the bounding box on the image\n",
    "    cv2.rectangle(image, (bbox[0], bbox[1]), (bbox[2], bbox[3]), (0, 255, 0), 2)\n",
    "    # Display the image\n",
    "    cv2.imshow('Image with Bounding Box', image)\n",
    "    cv2.waitKey(0)\n",
    "    cv2.destroyAllWindows()\n",
    "else:\n",
    "    print(\"No valid bounding box could be calculated.\")\n"
   ]
  },
  {
   "cell_type": "code",
   "execution_count": null,
   "id": "f5a7a7d0-4419-46ea-8d14-6850a5d84d1c",
   "metadata": {},
   "outputs": [],
   "source": []
  }
 ],
 "metadata": {
  "kernelspec": {
   "display_name": "Python 3 (ipykernel)",
   "language": "python",
   "name": "python3"
  },
  "language_info": {
   "codemirror_mode": {
    "name": "ipython",
    "version": 3
   },
   "file_extension": ".py",
   "mimetype": "text/x-python",
   "name": "python",
   "nbconvert_exporter": "python",
   "pygments_lexer": "ipython3",
   "version": "3.10.8"
  }
 },
 "nbformat": 4,
 "nbformat_minor": 5
}
